{
 "cells": [
  {
   "cell_type": "code",
   "execution_count": 1,
   "id": "74e8f116-3485-4767-ad74-352aa4e1f86b",
   "metadata": {},
   "outputs": [],
   "source": [
    "import pandas as pd # Mengimpor pustaka pandas untuk manipulasi data tabel.\n",
    "import numpy as np # Mengimpor pustaka numpy untuk operasi numerik yang efisien.\n",
    "import matplotlib.pyplot as plt # Mengimpor pustaka matplotlib untuk visualisasi data.\n",
    "import seaborn as sns # Mengimpor pustaka seaborn untuk visualisasi data yang lebih interaktif.\n",
    "from sklearn.linear_model import LogisticRegression  # Mengimpor model regresi logistik dari sklearn.\n",
    "from sklearn.preprocessing import LabelEncoder # Mengimpor LabelEncoder untuk mengubah variabel kategorikal menjadi numerik.\n",
    "from sklearn.preprocessing import StandardScaler # Mengimpor StandardScaler untuk menyesuaikan skala fitur numerik.\n",
    "from sklearn.model_selection import cross_val_score # Mengimpor cross_val_score untuk evaluasi model menggunakan cross-validation.\n",
    "from sklearn.model_selection import train_test_split # Mengimpor train_test_split untuk membagi data menjadi set pelatihan dan pengujian.\n",
    "from sklearn import metrics # Mengimpor metrics dari sklearn untuk evaluasi model.\n",
    "from sklearn.metrics import confusion_matrix # Mengimpor confusion_matrix untuk evaluasi hasil klasifikasi.\n"
   ]
  },
  {
   "cell_type": "code",
   "execution_count": 2,
   "id": "4476ef78-5a90-46d2-a4eb-64c9ca4c3b88",
   "metadata": {},
   "outputs": [
    {
     "data": {
      "text/html": [
       "<div>\n",
       "<style scoped>\n",
       "    .dataframe tbody tr th:only-of-type {\n",
       "        vertical-align: middle;\n",
       "    }\n",
       "\n",
       "    .dataframe tbody tr th {\n",
       "        vertical-align: top;\n",
       "    }\n",
       "\n",
       "    .dataframe thead th {\n",
       "        text-align: right;\n",
       "    }\n",
       "</style>\n",
       "<table border=\"1\" class=\"dataframe\">\n",
       "  <thead>\n",
       "    <tr style=\"text-align: right;\">\n",
       "      <th></th>\n",
       "      <th>Favorite Color</th>\n",
       "      <th>Favorite Music Genre</th>\n",
       "      <th>Favorite Beverage</th>\n",
       "      <th>Favorite Soft Drink</th>\n",
       "      <th>Gender</th>\n",
       "    </tr>\n",
       "  </thead>\n",
       "  <tbody>\n",
       "    <tr>\n",
       "      <th>0</th>\n",
       "      <td>Cool</td>\n",
       "      <td>Rock</td>\n",
       "      <td>Vodka</td>\n",
       "      <td>7UP/Sprite</td>\n",
       "      <td>F</td>\n",
       "    </tr>\n",
       "    <tr>\n",
       "      <th>1</th>\n",
       "      <td>Neutral</td>\n",
       "      <td>Hip hop</td>\n",
       "      <td>Vodka</td>\n",
       "      <td>Coca Cola/Pepsi</td>\n",
       "      <td>F</td>\n",
       "    </tr>\n",
       "    <tr>\n",
       "      <th>2</th>\n",
       "      <td>Warm</td>\n",
       "      <td>Rock</td>\n",
       "      <td>Wine</td>\n",
       "      <td>Coca Cola/Pepsi</td>\n",
       "      <td>F</td>\n",
       "    </tr>\n",
       "    <tr>\n",
       "      <th>3</th>\n",
       "      <td>Warm</td>\n",
       "      <td>Folk/Traditional</td>\n",
       "      <td>Whiskey</td>\n",
       "      <td>Fanta</td>\n",
       "      <td>F</td>\n",
       "    </tr>\n",
       "    <tr>\n",
       "      <th>4</th>\n",
       "      <td>Cool</td>\n",
       "      <td>Rock</td>\n",
       "      <td>Vodka</td>\n",
       "      <td>Coca Cola/Pepsi</td>\n",
       "      <td>F</td>\n",
       "    </tr>\n",
       "    <tr>\n",
       "      <th>...</th>\n",
       "      <td>...</td>\n",
       "      <td>...</td>\n",
       "      <td>...</td>\n",
       "      <td>...</td>\n",
       "      <td>...</td>\n",
       "    </tr>\n",
       "    <tr>\n",
       "      <th>61</th>\n",
       "      <td>Cool</td>\n",
       "      <td>Rock</td>\n",
       "      <td>Vodka</td>\n",
       "      <td>Coca Cola/Pepsi</td>\n",
       "      <td>M</td>\n",
       "    </tr>\n",
       "    <tr>\n",
       "      <th>62</th>\n",
       "      <td>Cool</td>\n",
       "      <td>Hip hop</td>\n",
       "      <td>Beer</td>\n",
       "      <td>Coca Cola/Pepsi</td>\n",
       "      <td>M</td>\n",
       "    </tr>\n",
       "    <tr>\n",
       "      <th>63</th>\n",
       "      <td>Neutral</td>\n",
       "      <td>Hip hop</td>\n",
       "      <td>Doesn't drink</td>\n",
       "      <td>Fanta</td>\n",
       "      <td>M</td>\n",
       "    </tr>\n",
       "    <tr>\n",
       "      <th>64</th>\n",
       "      <td>Cool</td>\n",
       "      <td>Rock</td>\n",
       "      <td>Wine</td>\n",
       "      <td>Coca Cola/Pepsi</td>\n",
       "      <td>M</td>\n",
       "    </tr>\n",
       "    <tr>\n",
       "      <th>65</th>\n",
       "      <td>Cool</td>\n",
       "      <td>Electronic</td>\n",
       "      <td>Beer</td>\n",
       "      <td>Coca Cola/Pepsi</td>\n",
       "      <td>M</td>\n",
       "    </tr>\n",
       "  </tbody>\n",
       "</table>\n",
       "<p>66 rows × 5 columns</p>\n",
       "</div>"
      ],
      "text/plain": [
       "   Favorite Color Favorite Music Genre Favorite Beverage Favorite Soft Drink  \\\n",
       "0            Cool                 Rock             Vodka          7UP/Sprite   \n",
       "1         Neutral              Hip hop             Vodka     Coca Cola/Pepsi   \n",
       "2            Warm                 Rock              Wine     Coca Cola/Pepsi   \n",
       "3            Warm     Folk/Traditional           Whiskey               Fanta   \n",
       "4            Cool                 Rock             Vodka     Coca Cola/Pepsi   \n",
       "..            ...                  ...               ...                 ...   \n",
       "61           Cool                 Rock             Vodka     Coca Cola/Pepsi   \n",
       "62           Cool              Hip hop              Beer     Coca Cola/Pepsi   \n",
       "63        Neutral              Hip hop     Doesn't drink               Fanta   \n",
       "64           Cool                 Rock              Wine     Coca Cola/Pepsi   \n",
       "65           Cool           Electronic              Beer     Coca Cola/Pepsi   \n",
       "\n",
       "   Gender  \n",
       "0       F  \n",
       "1       F  \n",
       "2       F  \n",
       "3       F  \n",
       "4       F  \n",
       "..    ...  \n",
       "61      M  \n",
       "62      M  \n",
       "63      M  \n",
       "64      M  \n",
       "65      M  \n",
       "\n",
       "[66 rows x 5 columns]"
      ]
     },
     "execution_count": 2,
     "metadata": {},
     "output_type": "execute_result"
    }
   ],
   "source": [
    "df = pd.read_csv('Transformed Data Set - Sheet1.csv')# Membaca file CSV dan menyimpannya ke dalam DataFrame 'df'.\n",
    "df # Menampilkan DataFrame 'df' untuk mengecek data yang telah dimuat."
   ]
  },
  {
   "cell_type": "code",
   "execution_count": 3,
   "id": "f3914138-1570-4425-a993-cd35e20e6d57",
   "metadata": {},
   "outputs": [
    {
     "data": {
      "text/html": [
       "<div>\n",
       "<style scoped>\n",
       "    .dataframe tbody tr th:only-of-type {\n",
       "        vertical-align: middle;\n",
       "    }\n",
       "\n",
       "    .dataframe tbody tr th {\n",
       "        vertical-align: top;\n",
       "    }\n",
       "\n",
       "    .dataframe thead th {\n",
       "        text-align: right;\n",
       "    }\n",
       "</style>\n",
       "<table border=\"1\" class=\"dataframe\">\n",
       "  <thead>\n",
       "    <tr style=\"text-align: right;\">\n",
       "      <th></th>\n",
       "      <th>Favorite Color</th>\n",
       "      <th>Favorite Music Genre</th>\n",
       "      <th>Favorite Beverage</th>\n",
       "      <th>Favorite Soft Drink</th>\n",
       "      <th>Gender</th>\n",
       "    </tr>\n",
       "  </thead>\n",
       "  <tbody>\n",
       "    <tr>\n",
       "      <th>count</th>\n",
       "      <td>66</td>\n",
       "      <td>66</td>\n",
       "      <td>66</td>\n",
       "      <td>66</td>\n",
       "      <td>66</td>\n",
       "    </tr>\n",
       "    <tr>\n",
       "      <th>unique</th>\n",
       "      <td>3</td>\n",
       "      <td>7</td>\n",
       "      <td>6</td>\n",
       "      <td>4</td>\n",
       "      <td>2</td>\n",
       "    </tr>\n",
       "    <tr>\n",
       "      <th>top</th>\n",
       "      <td>Cool</td>\n",
       "      <td>Rock</td>\n",
       "      <td>Doesn't drink</td>\n",
       "      <td>Coca Cola/Pepsi</td>\n",
       "      <td>F</td>\n",
       "    </tr>\n",
       "    <tr>\n",
       "      <th>freq</th>\n",
       "      <td>37</td>\n",
       "      <td>19</td>\n",
       "      <td>14</td>\n",
       "      <td>32</td>\n",
       "      <td>33</td>\n",
       "    </tr>\n",
       "  </tbody>\n",
       "</table>\n",
       "</div>"
      ],
      "text/plain": [
       "       Favorite Color Favorite Music Genre Favorite Beverage  \\\n",
       "count              66                   66                66   \n",
       "unique              3                    7                 6   \n",
       "top              Cool                 Rock     Doesn't drink   \n",
       "freq               37                   19                14   \n",
       "\n",
       "       Favorite Soft Drink Gender  \n",
       "count                   66     66  \n",
       "unique                   4      2  \n",
       "top        Coca Cola/Pepsi      F  \n",
       "freq                    32     33  "
      ]
     },
     "execution_count": 3,
     "metadata": {},
     "output_type": "execute_result"
    }
   ],
   "source": [
    "df.describe() # Menampilkan ringkasan statistik dari DataFrame 'df', seperti rata-rata, standar deviasi, nilai minimum, kuartil, dan nilai maksimum untuk setiap kolom numerik."
   ]
  },
  {
   "cell_type": "code",
   "execution_count": 4,
   "id": "1a4de19f-88cd-4f96-9c63-6e4723c6fa03",
   "metadata": {},
   "outputs": [
    {
     "name": "stdout",
     "output_type": "stream",
     "text": [
      "<class 'pandas.core.frame.DataFrame'>\n",
      "RangeIndex: 66 entries, 0 to 65\n",
      "Data columns (total 5 columns):\n",
      " #   Column                Non-Null Count  Dtype \n",
      "---  ------                --------------  ----- \n",
      " 0   Favorite Color        66 non-null     object\n",
      " 1   Favorite Music Genre  66 non-null     object\n",
      " 2   Favorite Beverage     66 non-null     object\n",
      " 3   Favorite Soft Drink   66 non-null     object\n",
      " 4   Gender                66 non-null     object\n",
      "dtypes: object(5)\n",
      "memory usage: 2.7+ KB\n"
     ]
    }
   ],
   "source": [
    "df.info() # Menampilkan informasi singkat tentang DataFrame 'df', termasuk jumlah baris dan kolom, nama kolom, tipe data, dan apakah terdapat nilai null (NaN) dalam setiap kolom."
   ]
  },
  {
   "cell_type": "code",
   "execution_count": 5,
   "id": "99c4dd47-261f-461c-9ba0-7aace0508a41",
   "metadata": {},
   "outputs": [
    {
     "data": {
      "text/plain": [
       "Favorite Color          0\n",
       "Favorite Music Genre    0\n",
       "Favorite Beverage       0\n",
       "Favorite Soft Drink     0\n",
       "Gender                  0\n",
       "dtype: int64"
      ]
     },
     "execution_count": 5,
     "metadata": {},
     "output_type": "execute_result"
    }
   ],
   "source": [
    "df.isnull().sum() # Menghitung jumlah nilai null (NaN) dalam setiap kolom DataFrame 'df' dan menampilkan total nilai null untuk setiap kolom."
   ]
  },
  {
   "cell_type": "code",
   "execution_count": 6,
   "id": "2956931f-7580-4838-be01-649db198c037",
   "metadata": {},
   "outputs": [
    {
     "data": {
      "text/plain": [
       "((66, 4), (66,))"
      ]
     },
     "execution_count": 6,
     "metadata": {},
     "output_type": "execute_result"
    }
   ],
   "source": [
    "X=df.drop(['Gender'],axis=1) # Menghapus kolom 'Gender' dari DataFrame 'df' dan menyimpan hasilnya ke dalam DataFrame 'X'.\n",
    "Y=df['Gender']  # Memilih kolom 'Gender' dari DataFrame 'df' dan menyimpannya ke dalam Series 'Y'.\n",
    "X.shape,Y.shape # Menampilkan bentuk (jumlah baris dan kolom) dari DataFrame 'X' dan jumlah elemen dari Series 'Y'."
   ]
  },
  {
   "cell_type": "code",
   "execution_count": 7,
   "id": "cd6f48e4-16f9-402b-94f3-2c7c7726fc72",
   "metadata": {},
   "outputs": [],
   "source": [
    "# Membagi dataset menjadi data latih dan data uji\n",
    "X_train,X_test,Y_train,Y_test = train_test_split(X,Y,test_size=0.2,random_state=0)"
   ]
  },
  {
   "cell_type": "code",
   "execution_count": 8,
   "id": "31b3560e-672b-45eb-b143-7a776f546ab8",
   "metadata": {},
   "outputs": [],
   "source": [
    "# Menggunakan LabelEncoder untuk mengubah kolom string menjadi numerik\n",
    "label_encoders = {}\n",
    "for column in X_train.columns:\n",
    "    le = LabelEncoder()\n",
    "    X_train[column] = le.fit_transform(X_train[column])\n",
    "    X_test[column] = le.transform(X_test[column])\n",
    "    label_encoders[column]=le"
   ]
  },
  {
   "cell_type": "code",
   "execution_count": 9,
   "id": "7af84e00-4978-4076-ba7d-927ddda36f25",
   "metadata": {},
   "outputs": [
    {
     "data": {
      "text/html": [
       "<style>#sk-container-id-1 {color: black;background-color: white;}#sk-container-id-1 pre{padding: 0;}#sk-container-id-1 div.sk-toggleable {background-color: white;}#sk-container-id-1 label.sk-toggleable__label {cursor: pointer;display: block;width: 100%;margin-bottom: 0;padding: 0.3em;box-sizing: border-box;text-align: center;}#sk-container-id-1 label.sk-toggleable__label-arrow:before {content: \"▸\";float: left;margin-right: 0.25em;color: #696969;}#sk-container-id-1 label.sk-toggleable__label-arrow:hover:before {color: black;}#sk-container-id-1 div.sk-estimator:hover label.sk-toggleable__label-arrow:before {color: black;}#sk-container-id-1 div.sk-toggleable__content {max-height: 0;max-width: 0;overflow: hidden;text-align: left;background-color: #f0f8ff;}#sk-container-id-1 div.sk-toggleable__content pre {margin: 0.2em;color: black;border-radius: 0.25em;background-color: #f0f8ff;}#sk-container-id-1 input.sk-toggleable__control:checked~div.sk-toggleable__content {max-height: 200px;max-width: 100%;overflow: auto;}#sk-container-id-1 input.sk-toggleable__control:checked~label.sk-toggleable__label-arrow:before {content: \"▾\";}#sk-container-id-1 div.sk-estimator input.sk-toggleable__control:checked~label.sk-toggleable__label {background-color: #d4ebff;}#sk-container-id-1 div.sk-label input.sk-toggleable__control:checked~label.sk-toggleable__label {background-color: #d4ebff;}#sk-container-id-1 input.sk-hidden--visually {border: 0;clip: rect(1px 1px 1px 1px);clip: rect(1px, 1px, 1px, 1px);height: 1px;margin: -1px;overflow: hidden;padding: 0;position: absolute;width: 1px;}#sk-container-id-1 div.sk-estimator {font-family: monospace;background-color: #f0f8ff;border: 1px dotted black;border-radius: 0.25em;box-sizing: border-box;margin-bottom: 0.5em;}#sk-container-id-1 div.sk-estimator:hover {background-color: #d4ebff;}#sk-container-id-1 div.sk-parallel-item::after {content: \"\";width: 100%;border-bottom: 1px solid gray;flex-grow: 1;}#sk-container-id-1 div.sk-label:hover label.sk-toggleable__label {background-color: #d4ebff;}#sk-container-id-1 div.sk-serial::before {content: \"\";position: absolute;border-left: 1px solid gray;box-sizing: border-box;top: 0;bottom: 0;left: 50%;z-index: 0;}#sk-container-id-1 div.sk-serial {display: flex;flex-direction: column;align-items: center;background-color: white;padding-right: 0.2em;padding-left: 0.2em;position: relative;}#sk-container-id-1 div.sk-item {position: relative;z-index: 1;}#sk-container-id-1 div.sk-parallel {display: flex;align-items: stretch;justify-content: center;background-color: white;position: relative;}#sk-container-id-1 div.sk-item::before, #sk-container-id-1 div.sk-parallel-item::before {content: \"\";position: absolute;border-left: 1px solid gray;box-sizing: border-box;top: 0;bottom: 0;left: 50%;z-index: -1;}#sk-container-id-1 div.sk-parallel-item {display: flex;flex-direction: column;z-index: 1;position: relative;background-color: white;}#sk-container-id-1 div.sk-parallel-item:first-child::after {align-self: flex-end;width: 50%;}#sk-container-id-1 div.sk-parallel-item:last-child::after {align-self: flex-start;width: 50%;}#sk-container-id-1 div.sk-parallel-item:only-child::after {width: 0;}#sk-container-id-1 div.sk-dashed-wrapped {border: 1px dashed gray;margin: 0 0.4em 0.5em 0.4em;box-sizing: border-box;padding-bottom: 0.4em;background-color: white;}#sk-container-id-1 div.sk-label label {font-family: monospace;font-weight: bold;display: inline-block;line-height: 1.2em;}#sk-container-id-1 div.sk-label-container {text-align: center;}#sk-container-id-1 div.sk-container {/* jupyter's `normalize.less` sets `[hidden] { display: none; }` but bootstrap.min.css set `[hidden] { display: none !important; }` so we also need the `!important` here to be able to override the default hidden behavior on the sphinx rendered scikit-learn.org. See: https://github.com/scikit-learn/scikit-learn/issues/21755 */display: inline-block !important;position: relative;}#sk-container-id-1 div.sk-text-repr-fallback {display: none;}</style><div id=\"sk-container-id-1\" class=\"sk-top-container\"><div class=\"sk-text-repr-fallback\"><pre>LogisticRegression()</pre><b>In a Jupyter environment, please rerun this cell to show the HTML representation or trust the notebook. <br />On GitHub, the HTML representation is unable to render, please try loading this page with nbviewer.org.</b></div><div class=\"sk-container\" hidden><div class=\"sk-item\"><div class=\"sk-estimator sk-toggleable\"><input class=\"sk-toggleable__control sk-hidden--visually\" id=\"sk-estimator-id-1\" type=\"checkbox\" checked><label for=\"sk-estimator-id-1\" class=\"sk-toggleable__label sk-toggleable__label-arrow\">LogisticRegression</label><div class=\"sk-toggleable__content\"><pre>LogisticRegression()</pre></div></div></div></div></div>"
      ],
      "text/plain": [
       "LogisticRegression()"
      ]
     },
     "execution_count": 9,
     "metadata": {},
     "output_type": "execute_result"
    }
   ],
   "source": [
    "# Membuat dan melatih model Regresi Logistik\n",
    "model = LogisticRegression()\n",
    "model.fit(X_train,Y_train)"
   ]
  },
  {
   "cell_type": "code",
   "execution_count": 10,
   "id": "3b76f00e-6e89-4feb-b69b-9e370fffe4bb",
   "metadata": {},
   "outputs": [
    {
     "name": "stdout",
     "output_type": "stream",
     "text": [
      "[[-0.26000166 -0.17362339 -0.11955988  0.19735981]]\n"
     ]
    }
   ],
   "source": [
    "print(model.coef_) # Mencetak koefisien (bobot) yang diperoleh dari model regresi logistik yang telah dilatih, yang menunjukkan kontribusi setiap fitur terhadap prediksi kelas."
   ]
  },
  {
   "cell_type": "code",
   "execution_count": 11,
   "id": "73c68c1e-8a1b-40fe-a558-9f3fd046c712",
   "metadata": {},
   "outputs": [
    {
     "data": {
      "text/html": [
       "<div>\n",
       "<style scoped>\n",
       "    .dataframe tbody tr th:only-of-type {\n",
       "        vertical-align: middle;\n",
       "    }\n",
       "\n",
       "    .dataframe tbody tr th {\n",
       "        vertical-align: top;\n",
       "    }\n",
       "\n",
       "    .dataframe thead th {\n",
       "        text-align: right;\n",
       "    }\n",
       "</style>\n",
       "<table border=\"1\" class=\"dataframe\">\n",
       "  <thead>\n",
       "    <tr style=\"text-align: right;\">\n",
       "      <th></th>\n",
       "      <th>True</th>\n",
       "      <th>Prediction</th>\n",
       "    </tr>\n",
       "  </thead>\n",
       "  <tbody>\n",
       "    <tr>\n",
       "      <th>0</th>\n",
       "      <td>M</td>\n",
       "      <td>M</td>\n",
       "    </tr>\n",
       "    <tr>\n",
       "      <th>1</th>\n",
       "      <td>F</td>\n",
       "      <td>M</td>\n",
       "    </tr>\n",
       "    <tr>\n",
       "      <th>2</th>\n",
       "      <td>F</td>\n",
       "      <td>M</td>\n",
       "    </tr>\n",
       "    <tr>\n",
       "      <th>3</th>\n",
       "      <td>M</td>\n",
       "      <td>M</td>\n",
       "    </tr>\n",
       "    <tr>\n",
       "      <th>4</th>\n",
       "      <td>M</td>\n",
       "      <td>M</td>\n",
       "    </tr>\n",
       "  </tbody>\n",
       "</table>\n",
       "</div>"
      ],
      "text/plain": [
       "  True Prediction\n",
       "0    M          M\n",
       "1    F          M\n",
       "2    F          M\n",
       "3    M          M\n",
       "4    M          M"
      ]
     },
     "execution_count": 11,
     "metadata": {},
     "output_type": "execute_result"
    }
   ],
   "source": [
    "Y_pred = pd.Series(model.predict(X_test))# Menggunakan model untuk membuat prediksi kelas pada data uji X_test dan menyimpannya sebagai Series 'Y_pred'.\n",
    "Y_test = Y_test.reset_index(drop=True)# Mereset indeks dari Y_test untuk memastikan konsistensi saat menggabungkan dengan Y_pred.\n",
    "z = pd.concat([Y_test,Y_pred], axis=1)# Menggabungkan Series Y_test dan Y_pred secara berdampingan menjadi DataFrame 'z'.\n",
    "z.columns = ['True','Prediction']# Mengubah nama kolom DataFrame 'z' menjadi 'True' dan 'Prediction'.\n",
    "z.head()# Menampilkan lima baris pertama dari DataFrame 'z' untuk melihat hasil prediksi dan nilai sebenarnya."
   ]
  },
  {
   "cell_type": "code",
   "execution_count": 12,
   "id": "813b3475-ea34-4c70-80e0-14a5bf643a20",
   "metadata": {},
   "outputs": [
    {
     "name": "stdout",
     "output_type": "stream",
     "text": [
      "Accuracy 0.5714285714285714\n",
      "Precision 0.75\n",
      "Recall 0.6\n"
     ]
    }
   ],
   "source": [
    "print(\"Accuracy\", metrics.accuracy_score(Y_test,Y_pred)) # Mencetak akurasi dari model, yang mengukur seberapa akurat model dalam mengklasifikasikan data uji.\n",
    "print(\"Precision\", metrics.precision_score(Y_test,Y_pred,pos_label=\"M\"))# Mencetak presisi dari model untuk kelas 'M', yang mengukur seberapa tepat model dalam mengklasifikasikan data positif.\n",
    "print(\"Recall\", metrics.recall_score(Y_test,Y_pred,pos_label=\"M\"))# Mencetak recall dari model untuk kelas 'M', yang mengukur seberapa banyak data positif yang terklasifikasi dengan benar oleh model."
   ]
  },
  {
   "cell_type": "code",
   "execution_count": 13,
   "id": "2e02602e-a182-4f6f-a320-5b99913cd8ea",
   "metadata": {},
   "outputs": [
    {
     "name": "stdout",
     "output_type": "stream",
     "text": [
      "Accuracy 0.5714285714285714\n",
      "Precision 0.3333333333333333\n",
      "Recall 0.5\n"
     ]
    }
   ],
   "source": [
    "print(\"Accuracy\", metrics.accuracy_score(Y_test,Y_pred))# Mencetak akurasi dari model, yang mengukur seberapa akurat model dalam mengklasifikasikan data uji.\n",
    "print(\"Precision\", metrics.precision_score(Y_test,Y_pred,pos_label=\"F\"))# Mencetak presisi dari model untuk kelas 'F', yang mengukur seberapa tepat model dalam mengklasifikasikan data negatif.\n",
    "print(\"Recall\", metrics.recall_score(Y_test,Y_pred,pos_label=\"F\"))# Mencetak recall dari model untuk kelas 'F', yang mengukur seberapa banyak data negatif yang terklasifikasi dengan benar oleh model."
   ]
  },
  {
   "cell_type": "code",
   "execution_count": 14,
   "id": "93e7d3b1-0282-4d27-88f2-431cad65556d",
   "metadata": {
    "scrolled": true
   },
   "outputs": [
    {
     "data": {
      "text/plain": [
       "Text(0.5, 23.52222222222222, 'True')"
      ]
     },
     "execution_count": 14,
     "metadata": {},
     "output_type": "execute_result"
    },
    {
     "data": {
      "image/png": "[encoded data removed]",
      "text/plain": [
       "<Figure size 640x480 with 2 Axes>"
      ]
     },
     "metadata": {},
     "output_type": "display_data"
    }
   ],
   "source": [
    "cnf_matrix = metrics.confusion_matrix(Y_test, Y_pred)# Menghitung confusion matrix (matriks kebingungan) dari prediksi model terhadap data uji.\n",
    "labels = [0, 1]# Label untuk sumbu x dan y pada heatmap.\n",
    "fig,ax = plt.subplots()# Membuat subplots untuk plot heatmap.\n",
    "tick_marks = np.arange(len(labels))# Mengatur tanda-tanda sumbu x dan y berdasarkan jumlah label.\n",
    "\n",
    "plt.xticks(tick_marks,labels)# Menentukan tanda sumbu x berdasarkan label.\n",
    "plt.yticks(tick_marks,labels)# Menentukan tanda sumbu y berdasarkan label.\n",
    "#Create heatmap\n",
    "sns.heatmap(pd.DataFrame(cnf_matrix),annot=True,cmap=\"YlGnBu\",fmt='g')\n",
    "ax.xaxis.set_label_position(\"top\")# Mengatur posisi label sumbu x ke atas heatmap.\n",
    "plt.title('confusion matrix',y=1.1)# Menentukan judul plot heatmap.\n",
    "plt.ylabel('Predicted')# Menentukan label sumbu y sebagai \"Predicted\".\n",
    "plt.xlabel('True')# Menentukan label sumbu x sebagai \"True\"."
   ]
  },
  {
   "cell_type": "code",
   "execution_count": 15,
   "id": "48f8b3fd-8fbc-4b60-873b-ece0820c53b5",
   "metadata": {},
   "outputs": [
    {
     "data": {
      "text/plain": [
       "['Rendi.joblib']"
      ]
     },
     "execution_count": 15,
     "metadata": {},
     "output_type": "execute_result"
    }
   ],
   "source": [
    "import joblib # Mengimpor modul joblib untuk menyimpan model ke file\n",
    "joblib.dump(model,'Rendi.joblib')# Menyimpan model ke dalam file 'Rendi.joblib' menggunakan joblib.dump()."
   ]
  },
  {
   "cell_type": "code",
   "execution_count": null,
   "id": "d27449b3-3e7f-47ea-b415-08920b07e91b",
   "metadata": {},
   "outputs": [],
   "source": []
  },
  {
   "cell_type": "code",
   "execution_count": null,
   "id": "844381c0-1a4e-4ce5-8ea2-84a9730a387f",
   "metadata": {},
   "outputs": [],
   "source": []
  }
 ],
 "metadata": {
  "kernelspec": {
   "display_name": "Python 3 (ipykernel)",
   "language": "python",
   "name": "python3"
  },
  "language_info": {
   "codemirror_mode": {
    "name": "ipython",
    "version": 3
   },
   "file_extension": ".py",
   "mimetype": "text/x-python",
   "name": "python",
   "nbconvert_exporter": "python",
   "pygments_lexer": "ipython3",
   "version": "3.11.7"
  }
 },
 "nbformat": 4,
 "nbformat_minor": 5
}
